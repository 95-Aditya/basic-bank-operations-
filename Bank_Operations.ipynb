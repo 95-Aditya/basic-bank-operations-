{
 "cells": [
  {
   "cell_type": "code",
   "execution_count": 2,
   "id": "5add620b-e8b4-402c-9234-410ccb4f11cf",
   "metadata": {},
   "outputs": [
    {
     "name": "stdout",
     "output_type": "stream",
     "text": [
      "============================================= BANK OF VISAKHAPATNAM ==================================================\n",
      "                                                   Beach Road\n",
      "                                                  Visakhapatnam\n",
      "  \n",
      "         <<1.Open New Account>>\n",
      "         <<2.Deposit         >>\n",
      "         <<3.Withdrawl       >>\n",
      "         <<4.Balance Enquiry >>\n",
      "         <<5.Queries         >>    \n"
     ]
    },
    {
     "name": "stdin",
     "output_type": "stream",
     "text": [
      "Enter yes/no for bank operations: yes\n",
      "Option No: 1\n",
      "enter your name: david\n",
      "enter PIN of your choice: 3773\n",
      "Enter Amount to Start Account: 1200000\n"
     ]
    },
    {
     "name": "stdout",
     "output_type": "stream",
     "text": [
      "Your Account Has Been Created Successfully\n",
      "Please Remember Your Credentials\n",
      "Do Not Share Your Credentials To Anyone\n"
     ]
    },
    {
     "name": "stdin",
     "output_type": "stream",
     "text": [
      "Enter yes/no for bank operations: yes\n",
      "Option No: 2\n",
      "Enter Your Name: aditya\n"
     ]
    },
    {
     "name": "stdout",
     "output_type": "stream",
     "text": [
      "Account No: 301\n"
     ]
    },
    {
     "name": "stdin",
     "output_type": "stream",
     "text": [
      "Enter Deposit Account No: 301\n"
     ]
    },
    {
     "name": "stdout",
     "output_type": "stream",
     "text": [
      "Current Balance: 5000\n"
     ]
    },
    {
     "name": "stdin",
     "output_type": "stream",
     "text": [
      "Enter Deposit Amount: 2000\n"
     ]
    },
    {
     "name": "stdout",
     "output_type": "stream",
     "text": [
      "Your Current Balance: 7000\n"
     ]
    },
    {
     "name": "stdin",
     "output_type": "stream",
     "text": [
      "Enter yes/no for bank operations: yes\n",
      "Option No: 3\n",
      "Enter Your Name : aravind\n",
      "Enter Your PIN: 2628\n",
      "Enter Withdrawl Amount: 10000\n"
     ]
    },
    {
     "name": "stdout",
     "output_type": "stream",
     "text": [
      "You have withdrawl an amount of 10000\n",
      "Your Current Balance: 890000\n"
     ]
    },
    {
     "name": "stdin",
     "output_type": "stream",
     "text": [
      "Enter yes/no for bank operations: yes\n",
      "Option No: 4\n",
      "Enter Your Name: david\n",
      "Enter Your PIN: 3773\n"
     ]
    },
    {
     "name": "stdout",
     "output_type": "stream",
     "text": [
      "Your Balance is : 1200000\n"
     ]
    },
    {
     "name": "stdin",
     "output_type": "stream",
     "text": [
      "Enter yes/no for bank operations: yes\n",
      "Option No: 5\n"
     ]
    },
    {
     "name": "stdout",
     "output_type": "stream",
     "text": [
      "You can use our toll free number 11020121 for queries\n",
      "You Can Feel Free To Write us at bankofvisakhapatnam@gmail.com\n"
     ]
    },
    {
     "name": "stdin",
     "output_type": "stream",
     "text": [
      "Enter yes/no for bank operations: no\n"
     ]
    },
    {
     "name": "stdout",
     "output_type": "stream",
     "text": [
      "========================================================================================================================\n",
      "                                              Thank You For Banking With Us                                              \n",
      "                                               Namaste And Have a Good Day                                              \n"
     ]
    }
   ],
   "source": [
    "import random\n",
    "cust_name=[\"aditya\",\"aravind\",\"kumari\",\"jeevitha\",\"kiran\",\"chandini\",\"chris\",\"nick\"]\n",
    "cust_pin=['2828','2628','5048','4224','3534','2930','3030','4520']\n",
    "cust_balance=[5000,900000,100000,40000,50000,20000,400000,1000000]\n",
    "acc_number=[301,302,303,304,305,306,307,308]\n",
    "balance=0\n",
    "deposit=0\n",
    "withdrawl=0\n",
    "#new_acc_num=0\n",
    "cust_details={\"aditya\":{\"cust_pin\":'2828',\"cust_balance\":5000,\"acc_number\":301},\n",
    "               \"aravind\":{\"cust_pin\":'2628',\"cust_balance\":900000,\"acc_number\":302},\n",
    "               \"kumari\":{\"cust_pin\":'5048',\"cust_balance\":100000,\"acc_number\":303},\n",
    "               \"jeevitha\":{\"cust_pin\":'4224',\"cust_balance\":40000,\"acc_number\":304},\n",
    "               \"kiran\":{\"cust_pin\":'3534',\"cust_balance\":50000,\"acc_number\":305},\n",
    "               \"chandini\":{\"cust_pin\":'2930',\"cust_balance\":20000,\"acc_number\":306},\n",
    "               \"chris\":{\"cust_pin\":'3030',\"cust_balance\":400000,\"acc_number\":307},\n",
    "               \"nick\":{\"cust_pin\":'4520',\"cust_balance\":1000000,\"acc_number\":308}}\n",
    "\n",
    "print(45*\"=\",\"BANK OF VISAKHAPATNAM\",50*\"=\" )\n",
    "print(50*\" \",\"Beach Road\")\n",
    "print(49*\" \",\"Visakhapatnam\")\n",
    "print('''  \n",
    "         <<1.Open New Account>>\n",
    "         <<2.Deposit         >>\n",
    "         <<3.Withdrawl       >>\n",
    "         <<4.Balance Enquiry >>\n",
    "         <<5.Queries         >>    ''')\n",
    "\n",
    "\n",
    "while True:\n",
    "     banking=input(\"Enter yes/no for bank operations:\")\n",
    "     \n",
    "     if banking==\"no\":\n",
    "            break\n",
    "     \n",
    "     else:\n",
    "          \n",
    "        select_option=int(input(\"Option No:\"))       \n",
    "        if select_option==1:\n",
    "            name=input(\"enter your name:\")\n",
    "            cust_name.append(name)\n",
    "            pin=str(input(\"enter PIN of your choice:\"))\n",
    "            cust_pin.append(pin) \n",
    "            balance=0\n",
    "            deposit=int(input(\"Enter Amount to Start Account:\"))\n",
    "            balance=balance+deposit\n",
    "            cust_balance.append(balance)\n",
    "            new_acc_num=random.randint(309,400)\n",
    "            acc_number.append(new_acc_num)\n",
    "            cust_details.update({name:{\"cust_pin\":pin,\"cust_balance\":balance,\"acc_number\":new_acc_num}})\n",
    "    \n",
    "            print(\"Your Account Has Been Created Successfully\")\n",
    "            print(\"Please Remember Your Credentials\")\n",
    "            print(\"Do Not Share Your Credentials To Anyone\")\n",
    "    \n",
    "        elif select_option==2:\n",
    "            name=input(\"Enter Your Name:\")\n",
    "            if name in cust_details.keys():\n",
    "                print(\"Account No:\",cust_details[name][\"acc_number\"])\n",
    "                dep_acc=int(input(\"Enter Deposit Account No:\"))\n",
    "                if cust_details[name][\"acc_number\"]==dep_acc:\n",
    "                    print(\"Current Balance:\",cust_details[name][\"cust_balance\"])\n",
    "                    dep_amount=int(input(\"Enter Deposit Amount:\"))\n",
    "                    updated_balance=dep_amount+cust_details[name][\"cust_balance\"]\n",
    "                    print(\"Your Current Balance:\",updated_balance)\n",
    "            \n",
    "                elif cust_details[name][\"acc_number\"]!=dep_acc:\n",
    "                    print(\"Current Balance:\",cust_details[name][\"cust_balance\"])\n",
    "                    dep_amount=int(input(\"Enter Deposit Amount:\"))\n",
    "                    updated_balance=cust_details[name][\"cust_balance\"]-dep_amount\n",
    "                    print(\"Your Current Balance:\",updated_balance) \n",
    "        \n",
    "                else :\n",
    "                    print(\"please check your credentials\")\n",
    "            \n",
    "            else:\n",
    "                print(\"wrong credential\")\n",
    "\n",
    "        elif select_option==3:\n",
    "            name=input(\"Enter Your Name :\")\n",
    "            if name in cust_details.keys():\n",
    "                pin_no=input(\"Enter Your PIN:\")\n",
    "                if pin_no in cust_details[name][\"cust_pin\"]:\n",
    "                    withdraw = int(input(\"Enter Withdrawl Amount:\"))\n",
    "                    if withdraw <= cust_details[name][\"cust_balance\"]:\n",
    "                        updated_balance=cust_details[name][\"cust_balance\"]-withdraw\n",
    "                        print(\"You have withdrawl an amount of\",withdraw)\n",
    "                        print(\"Your Current Balance:\",updated_balance)\n",
    "                    else:\n",
    "                        print(\"Low Balance\")\n",
    "                else:\n",
    "                    print(\"wrong pin\")\n",
    "            else:\n",
    "                print(\"please check your credentials\")\n",
    "           \n",
    "        elif select_option==4:\n",
    "            name=input(\"Enter Your Name:\")\n",
    "            pin_no=input(\"Enter Your PIN:\")\n",
    "            if name in cust_details.keys() and pin_no in cust_details[name][\"cust_pin\"]:\n",
    "                print(\"Your Balance is :\",cust_details[name][\"cust_balance\"])\n",
    "        \n",
    "            else:   \n",
    "                print(\"wrong credentials\")\n",
    "        \n",
    "        elif select_option==5:\n",
    "            print(\"You can use our toll free number 11020121 for queries\")\n",
    "            print(\"You Can Feel Free To Write us at bankofvisakhapatnam@gmail.com\")\n",
    "    \n",
    "        else:\n",
    "            print(\"invalid option\")\n",
    "\n",
    "            \n",
    "print(120*\"=\")    \n",
    "print(45*\" \",\"Thank You For Banking With Us\",45*\" \")\n",
    "print(45*\" \",\" Namaste And Have a Good Day\",45*\" \")\n"
   ]
  },
  {
   "cell_type": "code",
   "execution_count": null,
   "id": "d5126a13-c341-4f25-b887-8683f6b511ba",
   "metadata": {},
   "outputs": [],
   "source": []
  },
  {
   "cell_type": "code",
   "execution_count": null,
   "id": "b5aba794-6727-4d8a-bb27-8eb2d5afbd47",
   "metadata": {},
   "outputs": [],
   "source": []
  },
  {
   "cell_type": "code",
   "execution_count": null,
   "id": "40019785-6c83-4e83-8232-c234e0789e38",
   "metadata": {},
   "outputs": [],
   "source": []
  },
  {
   "cell_type": "code",
   "execution_count": null,
   "id": "5a6de922-2aae-4e86-8244-58c82e870b6b",
   "metadata": {},
   "outputs": [],
   "source": []
  },
  {
   "cell_type": "code",
   "execution_count": null,
   "id": "94b708cd-1286-41c5-94d6-12b37bf6d294",
   "metadata": {},
   "outputs": [],
   "source": []
  },
  {
   "cell_type": "code",
   "execution_count": null,
   "id": "903d866c-7eb9-439e-b301-445cc1b20c28",
   "metadata": {},
   "outputs": [],
   "source": []
  },
  {
   "cell_type": "code",
   "execution_count": null,
   "id": "f07d8818-7b40-4abd-b75c-78e37b73e493",
   "metadata": {
    "tags": []
   },
   "outputs": [],
   "source": []
  },
  {
   "cell_type": "code",
   "execution_count": null,
   "id": "615659b0-f271-4685-8f8a-7816d97cb377",
   "metadata": {
    "tags": []
   },
   "outputs": [],
   "source": [
    "\n",
    "    \n",
    "    "
   ]
  },
  {
   "cell_type": "code",
   "execution_count": null,
   "id": "cd6b5725-3586-482e-8a62-9c027ca1b739",
   "metadata": {
    "tags": []
   },
   "outputs": [],
   "source": [
    "\n",
    "    "
   ]
  },
  {
   "cell_type": "code",
   "execution_count": null,
   "id": "447a5626-633a-4181-bc45-c4cb4cc0963d",
   "metadata": {},
   "outputs": [],
   "source": []
  },
  {
   "cell_type": "code",
   "execution_count": null,
   "id": "233525e4-c6f5-44f1-bcc3-07f34fa215d8",
   "metadata": {
    "tags": []
   },
   "outputs": [],
   "source": []
  },
  {
   "cell_type": "code",
   "execution_count": null,
   "id": "8d6eb58a-924a-401d-bd5a-fbdf365e6a2a",
   "metadata": {},
   "outputs": [],
   "source": []
  }
 ],
 "metadata": {
  "kernelspec": {
   "display_name": "Python 3 (ipykernel)",
   "language": "python",
   "name": "python3"
  },
  "language_info": {
   "codemirror_mode": {
    "name": "ipython",
    "version": 3
   },
   "file_extension": ".py",
   "mimetype": "text/x-python",
   "name": "python",
   "nbconvert_exporter": "python",
   "pygments_lexer": "ipython3",
   "version": "3.11.5"
  }
 },
 "nbformat": 4,
 "nbformat_minor": 5
}
